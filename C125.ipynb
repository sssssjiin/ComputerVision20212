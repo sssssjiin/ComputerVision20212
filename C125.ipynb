{
 "cells": [
  {
   "cell_type": "code",
   "execution_count": 5,
   "metadata": {},
   "outputs": [],
   "source": [
    "import cv2\n",
    "import numpy as np"
   ]
  },
  {
   "cell_type": "code",
   "execution_count": 6,
   "metadata": {},
   "outputs": [],
   "source": [
    "def nothing(x):\n",
    "    pass"
   ]
  },
  {
   "cell_type": "code",
   "execution_count": 7,
   "metadata": {},
   "outputs": [],
   "source": [
    "# Create a block image, a window\n",
    "img = np.zeros((300,512,3), np.uint8)\n",
    "cv2.namedWindow('img1')\n",
    "# create trackbars for color change\n",
    "cv2.createTrackbar('R','img1',0,255,nothing)\n",
    "cv2.createTrackbar('G','img1',0,255,nothing)\n",
    "cv2.createTrackbar('B','img1',0,255,nothing)\n",
    "# create switch for ON/OFF functionality\n",
    "switch = '0 : OFF \\n1 : ON'\n",
    "cv2.createTrackbar(switch, 'img',0,1,nothing)"
   ]
  },
  {
   "cell_type": "code",
   "execution_count": null,
   "metadata": {},
   "outputs": [],
   "source": [
    "while(1):\n",
    "    cv2.imshow('image',img)\n",
    "    k = cv2.waitKey(1) & 0xFF\n",
    "    if k== 27:\n",
    "        break\n",
    "        # get current positions of four trackbars\n",
    "        r = cv2.getTrackbarPos('R','img1')\n",
    "        g = cv2.getTrackbarPos('G','img1')\n",
    "        b = cv2.getTrackbarPos('B','img1')\n",
    "        s = cv2.getTrackbarPos(switch,'img1')\n",
    "        if s == 0:\n",
    "            img[:] = 0\n",
    "        else:\n",
    "            img[:] = [b,g,r]\n",
    "cv2.destroyAllWindows()\n",
    "                \n",
    "        "
   ]
  }
 ],
 "metadata": {
  "kernelspec": {
   "display_name": "Python 3",
   "language": "python",
   "name": "python3"
  },
  "language_info": {
   "codemirror_mode": {
    "name": "ipython",
    "version": 3
   },
   "file_extension": ".py",
   "mimetype": "text/x-python",
   "name": "python",
   "nbconvert_exporter": "python",
   "pygments_lexer": "ipython3",
   "version": "3.8.5"
  }
 },
 "nbformat": 4,
 "nbformat_minor": 5
}
